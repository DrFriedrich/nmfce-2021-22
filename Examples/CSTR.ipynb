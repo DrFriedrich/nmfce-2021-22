{
 "cells": [
  {
   "cell_type": "markdown",
   "id": "5949fae7",
   "metadata": {},
   "source": [
    "# CSTR \n",
    "---\n",
    "\n",
    "Consider a CSTR (Continuously stirred tank reactor)\n",
    "\n",
    "<img src=\"figures/CSTR_empty.png\" alt=\"Schematic of a CSTR\" width=\"200\"/>\n",
    "\n",
    "in which the following reactions are taking place\n",
    "\\begin{align*}\n",
    " A+B\\to C & \\quad\\text{with } r_{AB} = k_1 c_A c_B \\\\\n",
    " C+B\\to D & \\quad\\text{with } r_{CB} = k_2 c_C c_B \\\\\n",
    " A \\to E & \\quad\\text{with } r_{A} = k_3 c_A\n",
    "\\end{align*}\n",
    "\n",
    "The kinetic data is known at two temperatures\n",
    "$$\n",
    "\\begin{aligned}\n",
    "& \\text {Table with kinetic data at two temperatures}\\\\\n",
    "&\\begin{array}{c|c|c|c}\n",
    "  & T=298\\,K & T=315\\,K & Units \\\\ \n",
    "\\hline\n",
    "k_1 & 2.1\\times 10^{-2} & 3.6\\times 10^{-2} & mol^{-1}\\,s^{-1} \\\\\n",
    "k_2 & 1.5\\times 10^{-2} & 4.5\\times 10^{-2} & mol^{-1}\\,s^{-1} \\\\\n",
    "k_3 & 1.2\\times 10^{-4} & 2.6\\times 10^{-4} & s^{-1}  \n",
    "\\end{array}\n",
    "\\end{aligned}\n",
    "$$\n",
    "\n",
    "The volume of the CSTR is $1\\,$m$^3$ and the inlet and outlet flow rate are $0.001\\,$m$^3\\,$s$^{-1}$. The inlet contains the components A and B, with $c_{A,i}=0.5\\,$M and a varying $\\gamma=c_{B,i}/c_{A,i}$. "
   ]
  },
  {
   "cell_type": "markdown",
   "id": "78ee1909",
   "metadata": {},
   "source": [
    "## Part a)\n",
    "\n",
    "Derive the system of governing equations."
   ]
  },
  {
   "cell_type": "markdown",
   "id": "9f1bc2d3",
   "metadata": {},
   "source": [
    "The mass balance equations are derived in the same manner as in the lectures with the addition of an additional equation for the concentration of component E\n",
    "\\begin{align*}\n",
    "0 &= F\\left(c_{A,i} - c_A\\right) - V (k_1 c_A c_B + k_3 c_A) \\\\\n",
    " 0 &= F\\left(c_{B,i} - c_B\\right) - V (k_1 c_A c_B + k_2 c_C c_B)  \\\\\n",
    " 0 &= -F c_C + V(k_1 c_A c_B - k_2 c_C c_B) \\\\\n",
    " 0 &= -F c_D + V k_2 c_C c_B \\\\\n",
    " 0 &= -F c_E + V k_3 c_A\n",
    "\\end{align*}\n",
    "Each of the five nonlinear equations is written so that at a solution it equates to zero."
   ]
  },
  {
   "cell_type": "markdown",
   "id": "efdff2e1",
   "metadata": {},
   "source": [
    "## Part b)\n",
    "\n",
    "\n",
    "Assuming isothermal operation and no volume change, plot the conversion of A as a function of temperature and $\\gamma$."
   ]
  },
  {
   "cell_type": "code",
   "execution_count": null,
   "id": "e3e2e817",
   "metadata": {},
   "outputs": [],
   "source": [
    "import numpy as np\n",
    "# CSTR right hand side function\n",
    "def CSTR_rhs(x, parameters):\n",
    "    y = np.zeros(5)\n",
    "    # Assign parameterseters to local variables\n",
    "    F = parameters[0]\n",
    "    V = parameters[1]\n",
    "    c_Ai = parameters[2]\n",
    "    c_Bi = parameters[3]\n",
    "    c_Ci = parameters[4] \n",
    "    c_Di = parameters[5]\n",
    "    c_Ei = parameters[6]\n",
    "    k1 = parameters[7]\n",
    "    k2 = parameters[8]\n",
    "    k3 = parameters[9]\n",
    "    \n",
    "    # Define the nonlinear equation system\n",
    "    y[0] = F*(c_Ai - x[0]) - V * (k1*x[0]*x[1] + k3*x[0])\n",
    "    y[1] = F*(c_Bi - x[1]) - V * (k1*x[0]*x[1] + k2*x[2]*x[1])\n",
    "    y[2] = F*(c_Ci - x[2]) + V * (k1*x[0]*x[1] - k2*x[2]*x[1])\n",
    "    y[3] = F*(c_Di - x[3]) + V * k2*x[2]*x[1]\n",
    "    y[4] = F*(c_Ei - x[4]) + V * k3*x[0]\n",
    "    \n",
    "    return y"
   ]
  },
  {
   "cell_type": "code",
   "execution_count": null,
   "id": "f1c9ee0a",
   "metadata": {},
   "outputs": [],
   "source": [
    "# Solve CSTR 2nd order reactions: Lab3_CSTR_main.m\n",
    "from scipy.optimize import fsolve\n",
    "\n",
    "# Lists to store the concentration and gamma values\n",
    "cA = []\n",
    "gamma = []\n",
    "\n",
    "for ga in np.linspace(0, 4, 10):   # Loop over different gamma values\n",
    "    # Parameter array: F, V, c_Ai, c_Bi, c_Ci, c_Di, c_Ei, k1, k2, k3\n",
    "  \n",
    "    ## Comment out one of the two parameter arrays\n",
    "    # T = 298K\n",
    "    parameters = [0.0001, 1, 0.5, ga*0.5, 0, 0, 0, 2.1e-2, 1.5e-2, 1.2e-4]\n",
    "    # T = 315K\n",
    "    parameters = [0.001, 1, 0.5, ga*0.5, 0, 0, 0, 3.6e-2, 4.5e-2, 2.6e-4]\n",
    "  \n",
    "    # Initial guess\n",
    "    x0 = [0.5/(1+2*ga), ga*0.5/(1+2*ga), 0, 0, 0]\n",
    "  \n",
    "    # Solve\n",
    "    x = fsolve(CSTR_rhs, x0, args=(parameters))\n",
    "\n",
    "    print(CSTR_rhs(x, parameters))\n",
    "    \n",
    "    #  g = @(x) Lab3_CSTR_function(x, param);\n",
    "    #  x = fsolve(g, x0);\n",
    "  \n",
    "    # Store gamma and c_A\n",
    "    gamma.append(ga)\n",
    "    cA.append(x[0])"
   ]
  },
  {
   "cell_type": "code",
   "execution_count": null,
   "id": "d09dc8b2",
   "metadata": {},
   "outputs": [],
   "source": [
    "import matplotlib.pyplot as plt\n",
    "cA = np.array(cA)\n",
    "\n",
    "plt.plot(gamma, 1 - cA/0.5)\n",
    "plt.xlabel('$\\gamma$')\n",
    "plt.ylabel('Conversion of A')\n",
    "plt.title('Conversion of A for various concentrations at T=298K')\n",
    "plt.show()"
   ]
  },
  {
   "cell_type": "code",
   "execution_count": null,
   "id": "82998720",
   "metadata": {},
   "outputs": [],
   "source": [
    "gamma"
   ]
  },
  {
   "cell_type": "code",
   "execution_count": null,
   "id": "887d003b",
   "metadata": {},
   "outputs": [],
   "source": [
    "c_A"
   ]
  },
  {
   "cell_type": "code",
   "execution_count": null,
   "id": "e8c05ba7",
   "metadata": {},
   "outputs": [],
   "source": []
  }
 ],
 "metadata": {
  "kernelspec": {
   "display_name": "Python 3",
   "language": "python",
   "name": "python3"
  },
  "language_info": {
   "codemirror_mode": {
    "name": "ipython",
    "version": 3
   },
   "file_extension": ".py",
   "mimetype": "text/x-python",
   "name": "python",
   "nbconvert_exporter": "python",
   "pygments_lexer": "ipython3",
   "version": "3.9.6"
  }
 },
 "nbformat": 4,
 "nbformat_minor": 5
}
