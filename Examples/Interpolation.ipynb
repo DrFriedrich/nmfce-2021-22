{
 "cells": [
  {
   "cell_type": "markdown",
   "id": "9b58e3f1-bc4a-4d5d-805d-9afc6ce4c2e8",
   "metadata": {},
   "source": [
    "# Polynomial interpolation\n",
    "\n",
    "---\n",
    "\n",
    "Perform polynomial interpolation of air density from the data in the following table.\n",
    "$$\n",
    "\\begin{aligned}\n",
    "& \\text {Table with air density against temperature}\\\\\n",
    "&\\begin{array}{c|c}\n",
    " Temperature & Density \\\\\n",
    " ^\\circ\\,C & kg\\,m^{-3} \\\\\n",
    " \\hline\n",
    " 100 & 0.946 \\\\\n",
    " 150 & 0.835 \\\\\n",
    " 200 & 0.746 \\\\\n",
    " 250 & 0.675 \\\\\n",
    " 300 & 0.616 \\\\\n",
    " 400 & 0.525 \\\\\n",
    " 500 & 0.457\n",
    "\\end{array}\n",
    "\\end{aligned}\n",
    "$$"
   ]
  },
  {
   "cell_type": "code",
   "execution_count": 4,
   "id": "a59db146-3539-4517-977b-c28ab355e134",
   "metadata": {},
   "outputs": [],
   "source": [
    "import numpy as np\n",
    "from IPython.display import display, Math\n",
    "\n",
    "# Input the data\n",
    "# Temperature\n",
    "T = [100, 150, 200, 250, 300, 400, 500]    \n",
    "# Air density\n",
    "rho = [0.946, 0.835, 0.746, 0.675, 0.616, 0.525, 0.457]"
   ]
  },
  {
   "cell_type": "code",
   "execution_count": 5,
   "id": "80264223-7cf8-4d8e-bb90-cd53c31bb251",
   "metadata": {},
   "outputs": [
    {
     "data": {
      "image/png": "[encoded data removed]",
      "text/plain": [
       "<Figure size 640x480 with 1 Axes>"
      ]
     },
     "metadata": {},
     "output_type": "display_data"
    }
   ],
   "source": [
    "# Plot the data\n",
    "import matplotlib.pyplot as plt\n",
    "\n",
    "plt.plot(T, rho, 'g*')\n",
    "plt.xlabel(\"Temperature [$^\\circ\\,$C]\")\n",
    "plt.ylabel(\"Air density [kg$\\,$m$^{-3}$]\")\n",
    "plt.show()"
   ]
  },
  {
   "cell_type": "markdown",
   "id": "e8bac26e-58c5-408e-b261-d2e6cd6af306",
   "metadata": {},
   "source": [
    "## Part a)\n",
    "\n",
    "Use Lagrange interpolation to calculate the air density at $350^\\circ\\,$C from the measured data between $300^\\circ\\,$C and $500^\\circ\\,$C."
   ]
  },
  {
   "cell_type": "code",
   "execution_count": 6,
   "id": "f97610bf-3397-4c9a-8626-29ccac62e760",
   "metadata": {},
   "outputs": [
    {
     "data": {
      "text/latex": [
       "$\\displaystyle \\text{The air density at } 350 ^\\circ \\text{C is }0.5676 \\,kg\\, m^{-3}$"
      ],
      "text/plain": [
       "<IPython.core.display.Math object>"
      ]
     },
     "metadata": {},
     "output_type": "display_data"
    }
   ],
   "source": [
    "# Temperature at which the air density is sought\n",
    "T0 = 350\n",
    "\n",
    "# Form Lagrange multipliers\n",
    "L = []\n",
    "os = 4     # Offset to get to the correct position in the data\n",
    "for i in range(3):\n",
    "    tmp = 1\n",
    "    for j in range(3):\n",
    "        if i != j:\n",
    "            tmp = tmp * (T0 - T[j+os])/(T[i+os] - T[j+os])\n",
    "    L.append(tmp)   \n",
    "\n",
    "\n",
    "# Calculate the air density at T0\n",
    "rho_T0 = 0\n",
    "for i in range(3):\n",
    "    rho_T0 = rho_T0 + L[i] * rho[i+os]\n",
    "rho_T0\n",
    "display(Math(r\"\\text{{The air density at }} {} ^\\circ \\text{{C is }}{:0.4f} \\,kg\\, m^{{-3}}\".format(T0, rho_T0)))"
   ]
  },
  {
   "cell_type": "markdown",
   "id": "ea3c965f-9ee6-47c5-b966-2ca8493ad754",
   "metadata": {},
   "source": [
    "*Remark:* You should try a few different values and add the value to the plot."
   ]
  },
  {
   "cell_type": "markdown",
   "id": "c3a18fd9-c25f-4bfd-9636-79287ac796c8",
   "metadata": {},
   "source": [
    "## Part b)\n",
    "\n",
    "Calculate the Newton interpolation coefficients for the support points $300^\\circ\\,$C and $400^\\circ\\,$C. Add a third support point and calculate the air density at $350^\\circ\\,$C."
   ]
  },
  {
   "cell_type": "code",
   "execution_count": null,
   "id": "13d78e06-58ba-44e8-88c0-08a7e8861a6c",
   "metadata": {},
   "outputs": [],
   "source": [
    "# Temperature at which the air density is sought\n",
    "T0 = 350\n",
    "# Offset to get to the correct position in the data\n",
    "os = 4     \n",
    "\n",
    "# Calculate the Newton interpolation coefficients\n",
    "a = []\n",
    "a.append(rho[0+os])\n",
    "a.append((rho[1+os] - rho[0+os]) / (T[1+os] - T[0+os]))"
   ]
  },
  {
   "cell_type": "code",
   "execution_count": null,
   "id": "8790c28a-0bad-4e79-9a11-211fc87edc11",
   "metadata": {},
   "outputs": [],
   "source": [
    "# Calculate the air density at T0\n",
    "rho_T0 = a[0] + a[1] * (T0 - T[0+os])\n",
    "display(Math(r\"\\text{{The air density at }} {} ^\\circ \\text{{C is }}{:0.4f} \\,kg\\, m^{{-3}}\".format(T0, rho_T0)))"
   ]
  },
  {
   "cell_type": "markdown",
   "id": "be20fe34-34ca-4b13-9a5e-12108c9c9239",
   "metadata": {},
   "source": [
    "The air density at $T=350^\\circ\\,$C calculated by Newton interpolation with two support points is $\\rho=0.5705\\,$kg$\\,$m$^{-3}$.\n",
    "\n",
    "Now we add a third interpolation point."
   ]
  },
  {
   "cell_type": "code",
   "execution_count": null,
   "id": "4516361e-7b56-476c-9844-dda32437361e",
   "metadata": {},
   "outputs": [],
   "source": [
    "# Add a third interpolation points\n",
    "# Set to -1 for T=250 and to 2 for T=500\n",
    "idx = -1\n",
    "\n",
    "tmp = (rho[idx+os]- rho[1+os]) / (T[idx+os] - T[1+os])\n",
    "a.append((tmp - a[1]) / (T[idx+os] - T[0+os]))\n",
    "\n",
    "rho_T0_3rd = a[0] + a[1] * (T0 - T[0+os]) + a[2] * (T0 - T[0+os]) * (T0 - T[1+os])\n",
    "display(Math(r\"\\text{{The air density at }} {} ^\\circ \\text{{C is }}{:0.4f} \\,kg\\, m^{{-3}}\".format(T0, rho_T0_3rd)))"
   ]
  },
  {
   "cell_type": "markdown",
   "id": "df7d0945-b665-4ffd-8fa0-65da4c58d711",
   "metadata": {},
   "source": [
    " When we add a third support point at $T=500^\\circ\\,$C we get the same result as for the case of the Lagrange interpolation in part (a), i.e. $\\rho=0.5676\\,$kg$\\,$m$^{-3}$. This is expected because the second order polynomial through the three support points is unique.\n",
    "\n",
    "*Remark:* When we instead add a third support point at $T=250^\\circ\\,$C we get $\\rho=0.5660\\,$kg$\\,$m$^{-3}$ which is slightly different from the other two interpolations. You should try this."
   ]
  },
  {
   "cell_type": "markdown",
   "id": "4dd1c490-eaca-42af-9b51-0cc1bd40e74e",
   "metadata": {},
   "source": [
    "## Part c)\n",
    "\n",
    "Use the Python functions numpy.interp to interpolate the air density between $300^\\circ\\,$C and $500^\\circ\\,$C. Plot the interpolated air density and the measured air densities at the three support points."
   ]
  },
  {
   "cell_type": "code",
   "execution_count": null,
   "id": "3c345e8a-d1ab-4a7f-ae34-0def009ce27f",
   "metadata": {},
   "outputs": [],
   "source": [
    "import numpy as np\n",
    "T0 = 350\n",
    "\n",
    "# What are the next two lines doing?\n",
    "os = 4\n",
    "length = 3\n",
    "\n",
    "rho_T0_np = np.interp(T0, T[os:os+length], rho[os:os+length])\n",
    "display(Math(r\"\\text{{The air density at }} {} ^\\circ \\text{{C is }}{:0.4f} \\,kg\\, m^{{-3}}\".format(T0, rho_T0_np)))"
   ]
  },
  {
   "cell_type": "code",
   "execution_count": null,
   "id": "82b30cca-be65-4a7b-ab30-f6b4ce0d9d0d",
   "metadata": {},
   "outputs": [],
   "source": [
    "x = np.linspace(300, 500, 201)\n",
    "\n",
    "plt.plot(T[os:os+length], rho[os:os+length], 'x', label=\"Measured points\")\n",
    "plt.plot(x, np.interp(x, T[os:os+length], rho[os:os+length]), 'r', label=\"Interpolation\")\n",
    "plt.xlabel(\"Temperature [$^\\circ\\,$C]\")\n",
    "plt.ylabel(\"Air density [kg$\\,$m$^{-3}$]\")\n",
    "plt.legend()\n",
    "plt.show()"
   ]
  },
  {
   "cell_type": "markdown",
   "id": "bb09c5eb-0a16-4e3b-9e79-8f2352e5af45",
   "metadata": {},
   "source": [
    "The plot shows that the numpy.interp function uses only linear interpolation which we could have expected from the value at $T=350^\\circ\\,$C or if we had looked at the documentation: https://numpy.org/doc/stable/reference/generated/numpy.interp.html"
   ]
  },
  {
   "cell_type": "markdown",
   "id": "f5542ad5-4941-49d1-a17a-0b84bcbb13eb",
   "metadata": {},
   "source": [
    "## Part d) \n",
    "\n",
    "Use the Python functions scipy.interpolate.interp1d to interpolate the air density between $300^\\circ\\,$C and $500^\\circ\\,$C. Plot the interpolated air density and the measured air densities at the three support points."
   ]
  },
  {
   "cell_type": "code",
   "execution_count": null,
   "id": "0ec9e0eb-fbb9-48ec-9910-2deba7ecf3a2",
   "metadata": {},
   "outputs": [],
   "source": [
    "from scipy import interpolate\n",
    "\n",
    "os = 4\n",
    "length = 3\n",
    "f = interpolate.interp1d(T[os:os+length], rho[os:os+length], \"quadratic\", fill_value=\"extrapolate\")\n",
    "x = np.linspace(300, 500, 201)\n",
    "\n",
    "plt.plot(T[os:os+length], rho[os:os+length], 'x', label=\"Measured points\")\n",
    "plt.plot(x, f(x), 'r', label=\"Interpolation\")\n",
    "plt.xlabel(\"Temperature [$^\\circ\\,$C]\")\n",
    "plt.ylabel(\"Air density [kg$\\,$m$^{-3}$]\")\n",
    "plt.legend()\n",
    "plt.show()\n",
    "display(Math(r\"\\text{{The air density at }} {} ^\\circ \\text{{C is }}{:0.4f} \\,kg\\, m^{{-3}}\".format(T0, f(T0))))"
   ]
  },
  {
   "cell_type": "markdown",
   "id": "e9ba0582-8afa-4818-b46a-e6a69bef0043",
   "metadata": {},
   "source": [
    "We can see that this interpolation is quadratic and produces the same interpolated value as the two examples in parts a) and the second interpolation in part b)."
   ]
  },
  {
   "cell_type": "markdown",
   "id": "6a7bb038-a1f8-4809-af02-fc62b37e905a",
   "metadata": {},
   "source": [
    "## Part e)\n",
    "\n",
    "Calculate the air density at $200^\\circ\\,$C from the interpolation and compare the value to the measured value. Extend the plot from part d) to $200^\\circ\\,$C."
   ]
  },
  {
   "cell_type": "code",
   "execution_count": null,
   "id": "90c119bf-8e29-4d32-81d5-8c9542e13590",
   "metadata": {},
   "outputs": [],
   "source": [
    "from scipy import interpolate\n",
    "# Offset\n",
    "os = 2 \n",
    "# length\n",
    "length = 5\n",
    "\n",
    "T0 = 200\n",
    "x = np.linspace(200, 500, 301)\n",
    "\n",
    "plt.plot(T[os:os+length], rho[os:os+length], 'x', label=\"Measured points\")\n",
    "plt.plot(x, f(x), 'r', label=\"Interpolation\")\n",
    "plt.xlabel(\"Temperature [$^\\circ\\,$C]\")\n",
    "plt.ylabel(\"Air density [kg$\\,$m$^{-3}$]\")\n",
    "plt.legend()\n",
    "plt.show()\n",
    "display(Math(r\"\\text{{The air density at }} {} ^\\circ \\text{{C is }}{:0.4f} \\,kg\\, m^{{-3}}\".format(T0, f(T0))))"
   ]
  },
  {
   "cell_type": "markdown",
   "id": "38160eaa-96b0-4867-9fbf-f082e24f45be",
   "metadata": {},
   "source": [
    "The interpolated value is $\\rho_{i,200}=0.73$ compared to the true value of $\\rho_{200}=0.746$. This gives a relative error of\n",
    "$$\n",
    "e = \\frac{0.746-0.73}{0.746} = 0.021\n",
    "$$\n",
    "In this case, the extrapolation beyond the support point interval gives a reasonably good approximation. This is due to the fact that the exact data almost follows a quadratic curve."
   ]
  },
  {
   "cell_type": "code",
   "execution_count": null,
   "id": "ea1f0770-eb3a-45fc-8871-fe81378ce109",
   "metadata": {},
   "outputs": [],
   "source": []
  }
 ],
 "metadata": {
  "kernelspec": {
   "display_name": "Python 3",
   "language": "python",
   "name": "python3"
  },
  "language_info": {
   "codemirror_mode": {
    "name": "ipython",
    "version": 3
   },
   "file_extension": ".py",
   "mimetype": "text/x-python",
   "name": "python",
   "nbconvert_exporter": "python",
   "pygments_lexer": "ipython3",
   "version": "3.9.6"
  }
 },
 "nbformat": 4,
 "nbformat_minor": 5
}
