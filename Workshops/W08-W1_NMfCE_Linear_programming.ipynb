{
 "cells": [
  {
   "cell_type": "markdown",
   "id": "a60920ec",
   "metadata": {},
   "source": [
    "# W08-W1: A toy problem (pun intended)\n",
    "\n",
    "---\n",
    "\n",
    "#### Displaying solutions\n",
    "\n",
    "Solutions will be released after the workshop, as a new `.txt` file in the same GitHub repository. After pulling the file to Noteable, **run the following cell** to create clickable buttons under each exercise, which will allow you to reveal the solutions."
   ]
  },
  {
   "cell_type": "code",
   "execution_count": null,
   "id": "61c9b0b9",
   "metadata": {},
   "outputs": [],
   "source": [
    "%run scripts/create_widgets.py W08-W1"
   ]
  },
  {
   "cell_type": "markdown",
   "id": "7cbc71b2",
   "metadata": {},
   "source": [
    "## Albatrosses and bears\n",
    "\n",
    "A toy factory produces two types of soft toys: albatrosses, for the adventurous children, and for more traditional customers, bears. If we imagine the factory creates A hundred albatrosses and B hundred bears per day, the company must find the A and B values for maximum profit.\n",
    "\n",
    "<img src=\"figures/Albatrosses_and_bears.png\" alt=\"Image of an albatross and a bear\" width=\"400\"/>\n",
    "\n",
    "**Albatrosses and bears -- how many should the factory produce daily?**"
   ]
  },
  {
   "cell_type": "markdown",
   "id": "c01b6e65",
   "metadata": {},
   "source": [
    "## Data\n",
    "\n",
    "- The price for an albatros is double the price of a bear.\n",
    "- The resources needed to construct each of the toys are important: We assume for simplicity that each toy is constructed in two steps: first, it is stitched on the sewing machine, and then it is filled on the stuffing machine. \n",
    "- Because the toys are different shapes, these tasks require different lengths of time:\n",
    "    - 100 albatrosses require 1 hour for stitching and 2 hours for stuffing\n",
    "    - 100 bears require 3 hours for stitching and 1 hour for stuffing. \n",
    "- The availability of machines is limited:\n",
    "    - The stitching machine is available 9 hours per day\n",
    "    - The mechanical stuffer is only available for 8 hours per day (e.g. because it takes longer to set up and refill). "
   ]
  },
  {
   "cell_type": "markdown",
   "id": "f2b3c22c",
   "metadata": {},
   "source": [
    "## Part a) \n",
    "\n",
    "Discuss the setup of the optimisation problem. Write down the equations and inequality constraints required for the optimisation."
   ]
  },
  {
   "cell_type": "markdown",
   "id": "dc60c3a6",
   "metadata": {},
   "source": []
  },
  {
   "cell_type": "code",
   "execution_count": null,
   "id": "8f7c8e1d",
   "metadata": {},
   "outputs": [],
   "source": [
    "%run scripts/show_solutions.py W08-W1_parta"
   ]
  },
  {
   "cell_type": "markdown",
   "id": "0eefbcde",
   "metadata": {},
   "source": [
    "## Part b)\n",
    "\n",
    "Learn how to translate the optimisation problem into a Python programme with [scipy.optimize.linprog](https://docs.scipy.org/doc/scipy/reference/generated/scipy.optimize.linprog.html)"
   ]
  },
  {
   "cell_type": "markdown",
   "id": "8c8946ee",
   "metadata": {},
   "source": [
    "## Part c)\n",
    "\n",
    "Find the daily quantities of toys that must be produced every day, to maximise profit."
   ]
  },
  {
   "cell_type": "code",
   "execution_count": null,
   "id": "d758ab4d",
   "metadata": {},
   "outputs": [],
   "source": []
  },
  {
   "cell_type": "code",
   "execution_count": null,
   "id": "dc2c8a7e",
   "metadata": {},
   "outputs": [],
   "source": [
    "%run scripts/show_solutions.py W08-W1_partc"
   ]
  },
  {
   "cell_type": "markdown",
   "id": "bae2b9e1",
   "metadata": {},
   "source": [
    "## Part d)\n",
    "\n",
    "Investigate how relative price changes for the toys affect the optimal production."
   ]
  },
  {
   "cell_type": "code",
   "execution_count": null,
   "id": "269fd670",
   "metadata": {},
   "outputs": [],
   "source": []
  }
 ],
 "metadata": {
  "kernelspec": {
   "display_name": "Python 3",
   "language": "python",
   "name": "python3"
  },
  "language_info": {
   "codemirror_mode": {
    "name": "ipython",
    "version": 3
   },
   "file_extension": ".py",
   "mimetype": "text/x-python",
   "name": "python",
   "nbconvert_exporter": "python",
   "pygments_lexer": "ipython3",
   "version": "3.9.6"
  }
 },
 "nbformat": 4,
 "nbformat_minor": 5
}
